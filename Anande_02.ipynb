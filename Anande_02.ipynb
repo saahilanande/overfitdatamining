{
  "nbformat": 4,
  "nbformat_minor": 0,
  "metadata": {
    "colab": {
      "name": "Anande_02.ipynb",
      "provenance": [],
      "collapsed_sections": []
    },
    "kernelspec": {
      "name": "python3",
      "display_name": "Python 3"
    },
    "language_info": {
      "name": "python"
    }
  },
  "cells": [
    {
      "cell_type": "code",
      "metadata": {
        "id": "6Gr7CC3cTRyn"
      },
      "source": [
        "import numpy as np\n",
        "import matplotlib.pyplot as plt\n",
        "import pandas as pd\n",
        "\n",
        "\n",
        "\n",
        "%matplotlib inline\n"
      ],
      "execution_count": 302,
      "outputs": []
    },
    {
      "cell_type": "markdown",
      "metadata": {
        "id": "IHmc-vNgYqLQ"
      },
      "source": [
        "**Generate 20 data pairs (X, Y) using y = sin(2*pi*X) + 0.1 * N**"
      ]
    },
    {
      "cell_type": "code",
      "metadata": {
        "id": "UWBvrbeQXtlv"
      },
      "source": [
        "###REFRENCE https://www.youtube.com/watch?v=hPr-TufXbew&t=1s ###\n",
        "\n",
        "Data=[]\n",
        "X=[]\n",
        "Y=[]\n",
        "for i in range(20):\n",
        "  x = np.random.uniform(0,1)\n",
        "  n = np.random.normal()\n",
        "  y = np.sin(2*3.142*x) + (n * 0.1)\n",
        "  X.append(x)\n",
        "  Y.append(y)\n",
        "  Data.append([x,y])\n",
        "\n",
        "\n"
      ],
      "execution_count": 303,
      "outputs": []
    },
    {
      "cell_type": "code",
      "metadata": {
        "colab": {
          "base_uri": "https://localhost:8080/",
          "height": 559
        },
        "id": "y817_ZRlasCz",
        "outputId": "02f78140-5a90-47e1-d760-ac6c4d09feae"
      },
      "source": [
        "plt.hist(Y)\n",
        "plt.title('values of y')\n",
        "plt.show()\n",
        "\n",
        "plt.scatter(X,Y)\n",
        "plt.title('all data points')\n",
        "plt.xlabel('x')\n",
        "plt.ylabel('y')\n",
        "plt.show()"
      ],
      "execution_count": 304,
      "outputs": [
        {
          "output_type": "display_data",
          "data": {
            "image/png": "[encoded data removed]",
            "text/plain": [
              "<Figure size 432x288 with 1 Axes>"
            ]
          },
          "metadata": {
            "needs_background": "light"
          }
        },
        {
          "output_type": "display_data",
          "data": {
            "image/png": "[encoded data removed]",
            "text/plain": [
              "<Figure size 432x288 with 1 Axes>"
            ]
          },
          "metadata": {
            "needs_background": "light"
          }
        }
      ]
    },
    {
      "cell_type": "markdown",
      "metadata": {
        "id": "qqOcFIZ4b8jw"
      },
      "source": [
        "**Use 10 for train and 10 for test**"
      ]
    },
    {
      "cell_type": "code",
      "metadata": {
        "colab": {
          "base_uri": "https://localhost:8080/"
        },
        "id": "JnMpMK9ycIHj",
        "outputId": "1c99905c-6d53-44a2-fadf-97606dec9676"
      },
      "source": [
        "data = np.array(Data)\n",
        "\n",
        "train_x = np.array(data[:10,:1]).reshape(-1)\n",
        "train_y = np.array(data[:10,1:2]).reshape(-1)\n",
        "test_x = np.array(data[10:,:1]).reshape(-1)\n",
        "test_y = np.array(data[10:,1:2]).reshape(-1)\n",
        "\n",
        "print('TRAIN_X', train_x)\n",
        "print('TRAIN_Y', train_y)\n",
        "print('TEST_X',test_x)\n",
        "print('TEST_Y',test_y)"
      ],
      "execution_count": 305,
      "outputs": [
        {
          "output_type": "stream",
          "name": "stdout",
          "text": [
            "TRAIN_X [0.58959875 0.6333789  0.68250115 0.80349817 0.86787229 0.15575273\n",
            " 0.74868447 0.90652823 0.6286243  0.47648693]\n",
            "TRAIN_Y [-0.42867108 -0.83522043 -0.8565866  -1.01694313 -0.70650818  0.87004055\n",
            " -0.80323613 -0.59228315 -0.75109396  0.40455545]\n",
            "TEST_X [0.59069239 0.04043644 0.53744204 0.22990134 0.10946096 0.5695794\n",
            " 0.03354012 0.22669712 0.05717719 0.08498028]\n",
            "TEST_Y [-0.4615664   0.27488626 -0.13278931  0.96837151  0.71550714 -0.43112478\n",
            "  0.12024006  1.01562863  0.39091251  0.65209704]\n"
          ]
        }
      ]
    },
    {
      "cell_type": "markdown",
      "metadata": {
        "id": "WXYS8Yu-euvO"
      },
      "source": [
        "**Using root mean square error, find weights of polynomial regression for order is 0, 1, 3, 9**"
      ]
    },
    {
      "cell_type": "markdown",
      "metadata": {
        "id": "DnmEFxKA0f-g"
      },
      "source": [
        "**ZERO ORDER**"
      ]
    },
    {
      "cell_type": "code",
      "metadata": {
        "colab": {
          "base_uri": "https://localhost:8080/",
          "height": 519
        },
        "id": "DbpfUghvetBI",
        "outputId": "e0ad3efc-845d-4520-f51e-b23ef09364df"
      },
      "source": [
        "import torch\n",
        "from torch import nn,optim\n",
        "from torch.autograd import Variable\n",
        "\n",
        "\n",
        "w0 = Variable(torch.Tensor([1.0]), requires_grad=True) # Any random value\n",
        "\n",
        "newX = []\n",
        "weight0=[0,0,0,0,0,0,0,0,0,0]\n",
        "RMSETRAIN=[]\n",
        "\n",
        "def forward(x):\n",
        "    return w0 \n",
        "    # + w2 * x * x + w3 + x * x * x\n",
        "\n",
        "def loss(x,y):\n",
        "  ycap = forward(x)\n",
        "  return (ycap - y).pow(2).sum() \n",
        "\n",
        "\n",
        "for epoch in range(100):\n",
        "  suml=0\n",
        "  i=0\n",
        "  for xval, yval in zip(train_x, train_y):\n",
        "    i+=1\n",
        "    l = loss(xval,yval)\n",
        "    suml+=l.data.numpy()\n",
        "    l.backward()\n",
        "    w0.data = w0.data - 0.01 * w0.grad.data\n",
        "    w0.grad.data.zero_()\n",
        "\n",
        "  suml=suml/i\n",
        "  suml = np.sqrt(suml)\n",
        " \n",
        "print('RMSE = ', suml)\n",
        "RMSETRAIN.append(suml)\n",
        "\n",
        "print('WIEGHT ZERO = ' ,w0)\n",
        "weight0[0]= w0\n",
        "\n",
        "print(\"predict (before training)\", train_x[0], forward(train_x[0]))\n",
        "print(\"predict (before training)\",train_x[1] , forward(train_x[1]))\n",
        "print(\"predict (before training)\", train_x[2], forward(train_x[2]))\n",
        "print(\"predict (before training)\", train_x[3], forward(train_x[3]))\n",
        "print(\"predict (before training)\",train_x[4] , forward(train_x[4]))\n",
        "print(\"predict (before training)\", train_x[5], forward(train_x[5]))\n",
        "print(\"predict (before training)\", train_x[6], forward(train_x[6]))\n",
        "print(\"predict (before training)\",train_x[7] , forward(train_x[7]))\n",
        "print(\"predict (before training)\", train_x[8], forward(train_x[8]))\n",
        "print(\"predict (before training)\", train_x[9], forward(train_x[9]))\n",
        "\n",
        "\n",
        "\n",
        "\n",
        "X0 = np.linspace(0,1,100)\n",
        "for x in X0:\n",
        "  newX.append(forward(x).detach())\n",
        "\n",
        "plt.scatter(train_x,train_y,c='r')\n",
        "plt.plot(X0,newX)\n",
        "plt.title('polynomial regression order 0')\n",
        "plt.xlabel('x')\n",
        "plt.ylabel('y')\n",
        "plt.show()\n"
      ],
      "execution_count": 306,
      "outputs": [
        {
          "output_type": "stream",
          "name": "stdout",
          "text": [
            "RMSE =  0.5893791412888717\n",
            "WIEGHT ZERO =  tensor([-0.4597], requires_grad=True)\n",
            "predict (before training) 0.5895987509966687 tensor([-0.4597], requires_grad=True)\n",
            "predict (before training) 0.6333788950558974 tensor([-0.4597], requires_grad=True)\n",
            "predict (before training) 0.682501152563854 tensor([-0.4597], requires_grad=True)\n",
            "predict (before training) 0.8034981693828217 tensor([-0.4597], requires_grad=True)\n",
            "predict (before training) 0.8678722887659936 tensor([-0.4597], requires_grad=True)\n",
            "predict (before training) 0.15575272665283768 tensor([-0.4597], requires_grad=True)\n",
            "predict (before training) 0.7486844719729087 tensor([-0.4597], requires_grad=True)\n",
            "predict (before training) 0.9065282311302156 tensor([-0.4597], requires_grad=True)\n",
            "predict (before training) 0.6286242975627008 tensor([-0.4597], requires_grad=True)\n",
            "predict (before training) 0.47648692943445026 tensor([-0.4597], requires_grad=True)\n"
          ]
        },
        {
          "output_type": "display_data",
          "data": {
            "image/png": "[encoded data removed]",
            "text/plain": [
              "<Figure size 432x288 with 1 Axes>"
            ]
          },
          "metadata": {
            "needs_background": "light"
          }
        }
      ]
    },
    {
      "cell_type": "markdown",
      "metadata": {
        "id": "wvI3hn4S2nM-"
      },
      "source": [
        "**FIRST ORDER**"
      ]
    },
    {
      "cell_type": "code",
      "metadata": {
        "colab": {
          "base_uri": "https://localhost:8080/",
          "height": 538
        },
        "id": "IlCYl_qg2rZp",
        "outputId": "1c3e34e4-0f88-4789-cc2e-7dd4c67e2592"
      },
      "source": [
        "import torch\n",
        "from torch import nn,optim\n",
        "from torch.autograd import Variable\n",
        "\n",
        "\n",
        "###REFRENCED FROM Lecture 04_ Back-propagation and PyTorch autograd.pdf ###\n",
        "\n",
        "w0 = Variable(torch.Tensor([1.0]), requires_grad=True) # Any random value\n",
        "w1 = Variable(torch.Tensor([1.0]), requires_grad=True) # Any random value\n",
        "\n",
        "newX = []\n",
        "weight1=[0,0,0,0,0,0,0,0,0,0]\n",
        "\n",
        "def forward(x):\n",
        "    return w0 + w1 * x\n",
        "\n",
        "def loss(x,y):\n",
        "  ycap = forward(x)\n",
        "  return (ycap - y).pow(2).sum() \n",
        "\n",
        "\n",
        "for epoch in range(100):\n",
        "  suml=0\n",
        "  i=0\n",
        "  for xval, yval in zip(train_x, train_y):\n",
        "    i+=1\n",
        "    l = loss(xval,yval)\n",
        "    suml+=l.data.numpy()\n",
        "    l.backward()\n",
        "    w0.data = w0.data - 0.01 * w0.grad.data\n",
        "    w0.grad.data.zero_()\n",
        "    w1.data = w1.data - 0.01 * w1.grad.data\n",
        "    w1.grad.data.zero_()\n",
        "    \n",
        "\n",
        "  suml=suml/i\n",
        "  suml = np.sqrt(suml)\n",
        " \n",
        "\n",
        "print('RMSE = ', suml)\n",
        "RMSETRAIN.append(suml)\n",
        "\n",
        "print('WIEGHT ZERO = ' ,w0)\n",
        "print('WEIGHT one =' ,w1)\n",
        "weight1[0]=w0\n",
        "weight1[1]=w1\n",
        "\n",
        "\n",
        "print(\"predict (before training)\", train_x[0], forward(train_x[0]))\n",
        "print(\"predict (before training)\",train_x[1] , forward(train_x[1]))\n",
        "print(\"predict (before training)\", train_x[2], forward(train_x[2]))\n",
        "print(\"predict (before training)\", train_x[3], forward(train_x[3]))\n",
        "print(\"predict (before training)\",train_x[4] , forward(train_x[4]))\n",
        "print(\"predict (before training)\", train_x[5], forward(train_x[5]))\n",
        "print(\"predict (before training)\", train_x[6], forward(train_x[6]))\n",
        "print(\"predict (before training)\",train_x[7] , forward(train_x[7]))\n",
        "print(\"predict (before training)\", train_x[8], forward(train_x[8]))\n",
        "print(\"predict (before training)\", train_x[9], forward(train_x[9]))\n",
        "\n",
        "\n",
        "\n",
        "\n",
        "X0 = np.linspace(0,1,100)\n",
        "for x in X0:\n",
        "  newX.append(forward(x).detach())\n",
        "\n",
        "plt.scatter(train_x,train_y,c='r')\n",
        "plt.plot(X0,newX)\n",
        "plt.title('polynomial regression order 1')\n",
        "plt.xlabel('x')\n",
        "plt.ylabel('y')\n",
        "plt.show()\n"
      ],
      "execution_count": 307,
      "outputs": [
        {
          "output_type": "stream",
          "name": "stdout",
          "text": [
            "RMSE =  0.41960772035269017\n",
            "WIEGHT ZERO =  tensor([0.2134], requires_grad=True)\n",
            "WEIGHT one = tensor([-1.0722], requires_grad=True)\n",
            "predict (before training) 0.5895987509966687 tensor([-0.4187], grad_fn=<AddBackward0>)\n",
            "predict (before training) 0.6333788950558974 tensor([-0.4657], grad_fn=<AddBackward0>)\n",
            "predict (before training) 0.682501152563854 tensor([-0.5183], grad_fn=<AddBackward0>)\n",
            "predict (before training) 0.8034981693828217 tensor([-0.6481], grad_fn=<AddBackward0>)\n",
            "predict (before training) 0.8678722887659936 tensor([-0.7171], grad_fn=<AddBackward0>)\n",
            "predict (before training) 0.15575272665283768 tensor([0.0464], grad_fn=<AddBackward0>)\n",
            "predict (before training) 0.7486844719729087 tensor([-0.5893], grad_fn=<AddBackward0>)\n",
            "predict (before training) 0.9065282311302156 tensor([-0.7585], grad_fn=<AddBackward0>)\n",
            "predict (before training) 0.6286242975627008 tensor([-0.4606], grad_fn=<AddBackward0>)\n",
            "predict (before training) 0.47648692943445026 tensor([-0.2975], grad_fn=<AddBackward0>)\n"
          ]
        },
        {
          "output_type": "display_data",
          "data": {
            "image/png": "[encoded data removed]",
            "text/plain": [
              "<Figure size 432x288 with 1 Axes>"
            ]
          },
          "metadata": {
            "needs_background": "light"
          }
        }
      ]
    },
    {
      "cell_type": "markdown",
      "metadata": {
        "id": "d4bz9WHa3Np7"
      },
      "source": [
        "**THIRD ORDER**"
      ]
    },
    {
      "cell_type": "code",
      "metadata": {
        "id": "8qTw7oZp3R06",
        "colab": {
          "base_uri": "https://localhost:8080/",
          "height": 575
        },
        "outputId": "d61e0366-403d-4fe3-960f-a79490059f9f"
      },
      "source": [
        "import torch\n",
        "from torch import nn,optim\n",
        "from torch.autograd import Variable\n",
        "\n",
        "###REFRENCED FROM Lecture 04_ Back-propagation and PyTorch autograd.pdf ###\n",
        "\n",
        "w0 = Variable(torch.Tensor([1.0]), requires_grad=True) # Any random value\n",
        "w1 = Variable(torch.Tensor([1.0]), requires_grad=True) # Any random value\n",
        "w2 = Variable(torch.Tensor([1.0]), requires_grad=True) # Any random value\n",
        "w3 = Variable(torch.Tensor([1.0]), requires_grad=True) # Any random value\n",
        "w4 = Variable(torch.Tensor([1.0]), requires_grad=True) # Any random value\n",
        "w5 = Variable(torch.Tensor([1.0]), requires_grad=True) # Any random value\n",
        "\n",
        "newX = []\n",
        "suml=0\n",
        "i=0\n",
        "lostlist=[]\n",
        "weight3=[0,0,0,0,0,0,0,0,0,0]\n",
        "\n",
        "def forward(x):\n",
        "    return w0 + w1 * x + w2 * x * x + w3 * x * x * x\n",
        "\n",
        "def loss(x,y):\n",
        "  ycap = forward(x)\n",
        "  return (ycap - y).pow(2).sum()\n",
        "\n",
        "# for epoch in range(100):\n",
        "#   for xval, yval in zip(train_x, train_y):\n",
        "#     l = loss(xval,yval)\n",
        "#     lostlist.append(l)\n",
        "#   suml = torch.sqrt(torch.mean(torch.stack(lostlist)))\n",
        "#   l.backward()\n",
        "#   w0.data = w0.data - 0.01 * w0.grad.data\n",
        "#   w0.grad.data.zero_()\n",
        "#   w1.data = w1.data - 0.01 * w1.grad.data\n",
        "#   w1.grad.data.zero_()\n",
        "#   w2.data = w2.data - 0.01 * w2.grad.data\n",
        "#   w2.grad.data.zero_()\n",
        "#   w3.data = w3.data - 0.01 * w3.grad.data\n",
        "#   w3.grad.data.zero_()\n",
        "\n",
        "\n",
        "for epoch in range(100):\n",
        "  suml=0\n",
        "  i=0\n",
        "  for xval, yval in zip(train_x, train_y):\n",
        "    i+=1\n",
        "    l = loss(xval,yval)\n",
        "    suml+=l.data.numpy()\n",
        "    l.backward()\n",
        "    w0.data = w0.data - 0.01 * w0.grad.data\n",
        "    w0.grad.data.zero_()\n",
        "    w1.data = w1.data - 0.01 * w1.grad.data\n",
        "    w1.grad.data.zero_()\n",
        "    w2.data = w2.data - 0.01 * w2.grad.data\n",
        "    w2.grad.data.zero_()\n",
        "    w3.data = w3.data - 0.01 * w3.grad.data\n",
        "    w3.grad.data.zero_()\n",
        "    \n",
        "\n",
        "  suml=suml/i\n",
        "  suml = np.sqrt(suml)\n",
        " \n",
        "\n",
        "print('WIEGHT ZERO = ' ,w0)\n",
        "print('WEIGHT one =' ,w1)\n",
        "print('WEIGHT TWO', w2)\n",
        "print('WEIGHT THREE',w3)\n",
        "\n",
        "\n",
        "weight3[0]=w0\n",
        "weight3[1]=w1\n",
        "weight3[2]=w2\n",
        "weight3[3]=w3\n",
        "\n",
        "print('RMSE = ', suml)\n",
        "RMSETRAIN.append(suml)\n",
        "\n",
        "print(\"predict (before training)\", train_x[0], forward(train_x[0]))\n",
        "print(\"predict (before training)\",train_x[1] , forward(train_x[1]))\n",
        "print(\"predict (before training)\", train_x[2], forward(train_x[2]))\n",
        "print(\"predict (before training)\", train_x[3], forward(train_x[3]))\n",
        "print(\"predict (before training)\",train_x[4] , forward(train_x[4]))\n",
        "print(\"predict (before training)\", train_x[5], forward(train_x[5]))\n",
        "print(\"predict (before training)\", train_x[6], forward(train_x[6]))\n",
        "print(\"predict (before training)\",train_x[7] , forward(train_x[7]))\n",
        "print(\"predict (before training)\", train_x[8], forward(train_x[8]))\n",
        "print(\"predict (before training)\", train_x[9], forward(train_x[9]))\n",
        "\n",
        "\n",
        "\n",
        "X0 = np.linspace(0,1,100)\n",
        "for x in X0:\n",
        "  newX.append(forward(x).detach())\n",
        "\n",
        "plt.scatter(train_x,train_y,c='r')\n",
        "plt.plot(X0,newX)\n",
        "plt.title('polynomial regression order 3')\n",
        "plt.xlabel('x')\n",
        "plt.ylabel('y')\n",
        "plt.show()\n"
      ],
      "execution_count": 308,
      "outputs": [
        {
          "output_type": "stream",
          "name": "stdout",
          "text": [
            "WIEGHT ZERO =  tensor([0.3546], requires_grad=True)\n",
            "WEIGHT one = tensor([-0.7806], requires_grad=True)\n",
            "WEIGHT TWO tensor([-0.5524], requires_grad=True)\n",
            "WEIGHT THREE tensor([-0.1894], requires_grad=True)\n",
            "RMSE =  0.3875159033465206\n",
            "predict (before training) 0.5895987509966687 tensor([-0.3365], grad_fn=<AddBackward0>)\n",
            "predict (before training) 0.6333788950558974 tensor([-0.4096], grad_fn=<AddBackward0>)\n",
            "predict (before training) 0.682501152563854 tensor([-0.4957], grad_fn=<AddBackward0>)\n",
            "predict (before training) 0.8034981693828217 tensor([-0.7275], grad_fn=<AddBackward0>)\n",
            "predict (before training) 0.8678722887659936 tensor([-0.8627], grad_fn=<AddBackward0>)\n",
            "predict (before training) 0.15575272665283768 tensor([0.2189], grad_fn=<AddBackward0>)\n",
            "predict (before training) 0.7486844719729087 tensor([-0.6189], grad_fn=<AddBackward0>)\n",
            "predict (before training) 0.9065282311302156 tensor([-0.9481], grad_fn=<AddBackward0>)\n",
            "predict (before training) 0.6286242975627008 tensor([-0.4014], grad_fn=<AddBackward0>)\n",
            "predict (before training) 0.47648692943445026 tensor([-0.1633], grad_fn=<AddBackward0>)\n"
          ]
        },
        {
          "output_type": "display_data",
          "data": {
            "image/png": "[encoded data removed]",
            "text/plain": [
              "<Figure size 432x288 with 1 Axes>"
            ]
          },
          "metadata": {
            "needs_background": "light"
          }
        }
      ]
    },
    {
      "cell_type": "markdown",
      "metadata": {
        "id": "rl7_7ky9Cd-S"
      },
      "source": [
        "**NINTH ORDER**"
      ]
    },
    {
      "cell_type": "code",
      "metadata": {
        "id": "133yuHtTCizq",
        "colab": {
          "base_uri": "https://localhost:8080/",
          "height": 687
        },
        "outputId": "1aef1a9e-5ce7-4715-edb6-7eb97c117515"
      },
      "source": [
        "import torch\n",
        "from torch import nn,optim\n",
        "from torch.autograd import Variable\n",
        "\n",
        "###REFRENCED FROM Lecture 04_ Back-propagation and PyTorch autograd.pdf ###\n",
        "\n",
        "w0 = Variable(torch.Tensor([1.0]), requires_grad=True) # Any random value\n",
        "w1 = Variable(torch.Tensor([1.0]), requires_grad=True) # Any random value\n",
        "w2 = Variable(torch.Tensor([1.0]), requires_grad=True) # Any random value\n",
        "w3 = Variable(torch.Tensor([1.0]), requires_grad=True) # Any random value\n",
        "w4 = Variable(torch.Tensor([1.0]), requires_grad=True) # Any random value\n",
        "w5 = Variable(torch.Tensor([1.0]), requires_grad=True) # Any random value\n",
        "w6 = Variable(torch.Tensor([1.0]), requires_grad=True) # Any random value\n",
        "w7 = Variable(torch.Tensor([1.0]), requires_grad=True) # Any random value\n",
        "w8 = Variable(torch.Tensor([1.0]), requires_grad=True) # Any random value\n",
        "w9 = Variable(torch.Tensor([1.0]), requires_grad=True) # Any random value\n",
        "\n",
        "newX = []\n",
        "weight9=[0,0,0,0,0,0,0,0,0,0]\n",
        "\n",
        "def forward(x):\n",
        "    return w0 + w1 * x + w2 * x * x + w3 * x **3 + w4 *x **4 + w5* x **5 + w6 * x**6 + w7 *x**7 + w8 * x **8 + w9 + x **9\n",
        "\n",
        "def loss(x,y):\n",
        "  ycap = forward(x)\n",
        "  return (ycap - y).pow(2).sum()\n",
        "\n",
        "\n",
        "for epoch in range(100):\n",
        "  suml=0\n",
        "  i=0\n",
        "  for xval, yval in zip(train_x, train_y):\n",
        "    i+=1\n",
        "    l = loss(xval,yval)\n",
        "    suml+=l.data.numpy()\n",
        "    l.backward()\n",
        "    w0.data = w0.data - 0.01 * w0.grad.data\n",
        "    w0.grad.data.zero_()\n",
        "    w1.data = w1.data - 0.01 * w1.grad.data\n",
        "    w1.grad.data.zero_()\n",
        "    w2.data = w2.data - 0.01 * w2.grad.data\n",
        "    w2.grad.data.zero_()\n",
        "    w3.data = w3.data - 0.01 * w3.grad.data\n",
        "    w3.grad.data.zero_()\n",
        "    w4.data = w4.data - 0.01 * w4.grad.data\n",
        "    w4.grad.data.zero_()\n",
        "    w5.data = w5.data - 0.01 * w5.grad.data\n",
        "    w5.grad.data.zero_()\n",
        "    w6.data = w6.data - 0.01 * w6.grad.data\n",
        "    w6.grad.data.zero_()\n",
        "    w7.data = w7.data - 0.01 * w7.grad.data\n",
        "    w7.grad.data.zero_()\n",
        "    w8.data = w8.data - 0.01 * w8.grad.data\n",
        "    w8.grad.data.zero_()\n",
        "    w9.data = w9.data - 0.01 * w9.grad.data\n",
        "    w9.grad.data.zero_()\n",
        "    \n",
        "\n",
        "  suml=suml/i\n",
        "  suml = np.sqrt(suml)\n",
        " \n",
        "\n",
        "print('WIEGHT ZERO = ' ,w0)\n",
        "print('WEIGHT one =' ,w1)\n",
        "print('WEIGHT TWO', w2)\n",
        "print('WEIGHT THREE',w3)\n",
        "print('WEIGHT FOUR',w4)\n",
        "print('WEIGHT FIVE',w5)\n",
        "print('WEIGHT SIX',w6)\n",
        "print('WEIGHT SEVEN',w7)\n",
        "print('WEIGHT EIGHT',w8)\n",
        "print('WEIGHT NINE',w9)\n",
        "\n",
        "weight9[0]=w0\n",
        "weight9[1]=w1\n",
        "weight9[2]=w2\n",
        "weight9[3]=w3\n",
        "weight9[4]=w4\n",
        "weight9[5]=w5\n",
        "weight9[6]=w6\n",
        "weight9[7]=w7\n",
        "weight9[8]=w8\n",
        "weight9[9]=w9\n",
        "\n",
        "\n",
        "print('RMSE = ', suml)\n",
        "RMSETRAIN.append(suml)\n",
        "\n",
        "\n",
        "print(\"predict (before training)\", train_x[0], forward(train_x[0]))\n",
        "print(\"predict (before training)\",train_x[1] , forward(train_x[1]))\n",
        "print(\"predict (before training)\", train_x[2], forward(train_x[2]))\n",
        "print(\"predict (before training)\", train_x[3], forward(train_x[3]))\n",
        "print(\"predict (before training)\",train_x[4] , forward(train_x[4]))\n",
        "print(\"predict (before training)\", train_x[5], forward(train_x[5]))\n",
        "print(\"predict (before training)\", train_x[6], forward(train_x[6]))\n",
        "print(\"predict (before training)\",train_x[7] , forward(train_x[7]))\n",
        "print(\"predict (before training)\", train_x[8], forward(train_x[8]))\n",
        "print(\"predict (before training)\", train_x[9], forward(train_x[9]))\n",
        "\n",
        "\n",
        "X0 = np.linspace(0,1,10)\n",
        "for x in X0:\n",
        "  newX.append(forward(x).detach())\n",
        "\n",
        "\n",
        "plt.scatter(train_x,train_y,c='r')\n",
        "plt.plot(X0,newX)\n",
        "plt.title('polynomial regression order 9')\n",
        "plt.xlabel('x')\n",
        "plt.ylabel('y')\n",
        "plt.show()"
      ],
      "execution_count": 309,
      "outputs": [
        {
          "output_type": "stream",
          "name": "stdout",
          "text": [
            "WIEGHT ZERO =  tensor([0.3153], requires_grad=True)\n",
            "WEIGHT one = tensor([-0.9401], requires_grad=True)\n",
            "WEIGHT TWO tensor([-0.8478], requires_grad=True)\n",
            "WEIGHT THREE tensor([-0.5631], requires_grad=True)\n",
            "WEIGHT FOUR tensor([-0.2890], requires_grad=True)\n",
            "WEIGHT FIVE tensor([-0.0590], requires_grad=True)\n",
            "WEIGHT SIX tensor([0.1268], requires_grad=True)\n",
            "WEIGHT SEVEN tensor([0.2754], requires_grad=True)\n",
            "WEIGHT EIGHT tensor([0.3943], requires_grad=True)\n",
            "WEIGHT NINE tensor([0.3153], requires_grad=True)\n",
            "RMSE =  0.29434764447373624\n",
            "predict (before training) 0.5895987509966687 tensor([-0.3465], grad_fn=<AddBackward0>)\n",
            "predict (before training) 0.6333788950558974 tensor([-0.4545], grad_fn=<AddBackward0>)\n",
            "predict (before training) 0.682501152563854 tensor([-0.5739], grad_fn=<AddBackward0>)\n",
            "predict (before training) 0.8034981693828217 tensor([-0.8027], grad_fn=<AddBackward0>)\n",
            "predict (before training) 0.8678722887659936 tensor([-0.8224], grad_fn=<AddBackward0>)\n",
            "predict (before training) 0.15575272665283768 tensor([0.4612], grad_fn=<AddBackward0>)\n",
            "predict (before training) 0.7486844719729087 tensor([-0.7180], grad_fn=<AddBackward0>)\n",
            "predict (before training) 0.9065282311302156 tensor([-0.7669], grad_fn=<AddBackward0>)\n",
            "predict (before training) 0.6286242975627008 tensor([-0.4428], grad_fn=<AddBackward0>)\n",
            "predict (before training) 0.47648692943445026 tensor([-0.0818], grad_fn=<AddBackward0>)\n"
          ]
        },
        {
          "output_type": "display_data",
          "data": {
            "image/png": "[encoded data removed]",
            "text/plain": [
              "<Figure size 432x288 with 1 Axes>"
            ]
          },
          "metadata": {
            "needs_background": "light"
          }
        }
      ]
    },
    {
      "cell_type": "markdown",
      "metadata": {
        "id": "0c7X5G4732Ut"
      },
      "source": [
        "**DISPLAY WEIGHT TABLE**"
      ]
    },
    {
      "cell_type": "code",
      "metadata": {
        "id": "9O-n-EGT6ZRU",
        "colab": {
          "base_uri": "https://localhost:8080/"
        },
        "outputId": "a6e5a372-4c26-4361-b6e7-2175da49b41e"
      },
      "source": [
        "from prettytable import PrettyTable\n",
        "\n",
        "pt = PrettyTable()\n",
        "pt.add_column('',['w0','w1','w2','w3','w4','w5','w6','w7','w8','w9'])\n",
        "pt.add_column('Degree zero' ,weight0)\n",
        "pt.add_column('Degree one' ,weight1)\n",
        "pt.add_column('Degree three' ,weight3)\n",
        "pt.add_column('Degree nine' ,weight9)\n",
        "\n",
        "\n",
        "print(pt)"
      ],
      "execution_count": 310,
      "outputs": [
        {
          "output_type": "stream",
          "name": "stdout",
          "text": [
            "+----+---------------------------------------+---------------------------------------+---------------------------------------+---------------------------------------+\n",
            "|    |              Degree zero              |               Degree one              |              Degree three             |              Degree nine              |\n",
            "+----+---------------------------------------+---------------------------------------+---------------------------------------+---------------------------------------+\n",
            "| w0 | tensor([-0.4597], requires_grad=True) |  tensor([0.2134], requires_grad=True) |  tensor([0.3546], requires_grad=True) |  tensor([0.3153], requires_grad=True) |\n",
            "| w1 |                   0                   | tensor([-1.0722], requires_grad=True) | tensor([-0.7806], requires_grad=True) | tensor([-0.9401], requires_grad=True) |\n",
            "| w2 |                   0                   |                   0                   | tensor([-0.5524], requires_grad=True) | tensor([-0.8478], requires_grad=True) |\n",
            "| w3 |                   0                   |                   0                   | tensor([-0.1894], requires_grad=True) | tensor([-0.5631], requires_grad=True) |\n",
            "| w4 |                   0                   |                   0                   |                   0                   | tensor([-0.2890], requires_grad=True) |\n",
            "| w5 |                   0                   |                   0                   |                   0                   | tensor([-0.0590], requires_grad=True) |\n",
            "| w6 |                   0                   |                   0                   |                   0                   |  tensor([0.1268], requires_grad=True) |\n",
            "| w7 |                   0                   |                   0                   |                   0                   |  tensor([0.2754], requires_grad=True) |\n",
            "| w8 |                   0                   |                   0                   |                   0                   |  tensor([0.3943], requires_grad=True) |\n",
            "| w9 |                   0                   |                   0                   |                   0                   |  tensor([0.3153], requires_grad=True) |\n",
            "+----+---------------------------------------+---------------------------------------+---------------------------------------+---------------------------------------+\n"
          ]
        }
      ]
    },
    {
      "cell_type": "markdown",
      "metadata": {
        "id": "MyF0eKpM_aTs"
      },
      "source": [
        " **TRAINING VS TEST**"
      ]
    },
    {
      "cell_type": "code",
      "metadata": {
        "colab": {
          "base_uri": "https://localhost:8080/",
          "height": 295
        },
        "id": "55JSGq5n_k2x",
        "outputId": "49ab9bfc-2961-4f20-feb4-38d94245532b"
      },
      "source": [
        "degree=[0, 1, 3, 9]\n",
        "\n",
        "plt.plot(degree,RMSETRAIN)\n",
        "plt.scatter(degree,RMSETRAIN)\n",
        "plt.plot(degree,RMSETEST, c='r')\n",
        "plt.scatter(degree,RMSETEST, c='r')\n",
        "plt.title('Train error')\n",
        "plt.xlabel('MODEL ORDER')\n",
        "plt.ylabel('RMSE')\n",
        "plt.show()"
      ],
      "execution_count": 311,
      "outputs": [
        {
          "output_type": "display_data",
          "data": {
            "image/png": "[encoded data removed]",
            "text/plain": [
              "<Figure size 432x288 with 1 Axes>"
            ]
          },
          "metadata": {
            "needs_background": "light"
          }
        }
      ]
    },
    {
      "cell_type": "markdown",
      "metadata": {
        "id": "uofXo478HeBx"
      },
      "source": [
        "**Now generate 100 more data and fit 9th order model and draw fit**"
      ]
    },
    {
      "cell_type": "code",
      "metadata": {
        "colab": {
          "base_uri": "https://localhost:8080/",
          "height": 295
        },
        "id": "JUlPnrZfHnmP",
        "outputId": "ce2fb621-f9ba-4f57-8b7b-690c6e301b2c"
      },
      "source": [
        "X100=[]\n",
        "Y100=[]\n",
        "data100=[]\n",
        "\n",
        "for i in range(100):\n",
        "  x100 = np.random.uniform(0,1)\n",
        "  n100 = np.random.normal(0,1)\n",
        "  y100 = np.sin(2*3.142*x100) + (n100 * 0.1)\n",
        "  X100.append(x100)\n",
        "  Y100.append(y100)\n",
        "\n",
        "\n",
        "w0 = Variable(torch.Tensor([1.0]), requires_grad=True) # Any random value\n",
        "w1 = Variable(torch.Tensor([1.0]), requires_grad=True) # Any random value\n",
        "w2 = Variable(torch.Tensor([1.0]), requires_grad=True) # Any random value\n",
        "w3 = Variable(torch.Tensor([1.0]), requires_grad=True) # Any random value\n",
        "w4 = Variable(torch.Tensor([1.0]), requires_grad=True) # Any random value\n",
        "w5 = Variable(torch.Tensor([1.0]), requires_grad=True) # Any random value\n",
        "w6 = Variable(torch.Tensor([1.0]), requires_grad=True) # Any random value\n",
        "w7 = Variable(torch.Tensor([1.0]), requires_grad=True) # Any random value\n",
        "w8 = Variable(torch.Tensor([1.0]), requires_grad=True) # Any random value\n",
        "w9 = Variable(torch.Tensor([1.0]), requires_grad=True) # Any random value\n",
        "\n",
        "newX = []\n",
        "weight9=[0,0,0,0,0,0,0,0,0,0]\n",
        "\n",
        "def forward(x):\n",
        "    return w0 + w1 * x + w2 * x * x + w3 * x **3 + w4 *x **4 + w5* x **5 + w6 * x**6 + w7 *x**7 + w8 * x **8 + w9 + x **9\n",
        "\n",
        "def loss(x,y):\n",
        "  ycap = forward(x)\n",
        "  return (ycap - y).pow(2).sum()\n",
        "\n",
        "\n",
        "for epoch in range(100):\n",
        "  suml=0\n",
        "  i=0\n",
        "  for xval, yval in zip(X100, Y100):\n",
        "    i+=1\n",
        "    l = loss(xval,yval)\n",
        "    suml+=l.data.numpy()\n",
        "    l.backward()\n",
        "    w0.data = w0.data - 0.01 * w0.grad.data\n",
        "    w0.grad.data.zero_()\n",
        "    w1.data = w1.data - 0.01 * w1.grad.data\n",
        "    w1.grad.data.zero_()\n",
        "    w2.data = w2.data - 0.01 * w2.grad.data\n",
        "    w2.grad.data.zero_()\n",
        "    w3.data = w3.data - 0.01 * w3.grad.data\n",
        "    w3.grad.data.zero_()\n",
        "    w4.data = w4.data - 0.01 * w4.grad.data\n",
        "    w4.grad.data.zero_()\n",
        "    w5.data = w5.data - 0.01 * w5.grad.data\n",
        "    w5.grad.data.zero_()\n",
        "    w6.data = w6.data - 0.01 * w6.grad.data\n",
        "    w6.grad.data.zero_()\n",
        "    w7.data = w7.data - 0.01 * w7.grad.data\n",
        "    w7.grad.data.zero_()\n",
        "    w8.data = w8.data - 0.01 * w8.grad.data\n",
        "    w8.grad.data.zero_()\n",
        "    w9.data = w9.data - 0.01 * w9.grad.data\n",
        "    w9.grad.data.zero_()\n",
        "    \n",
        "\n",
        "  suml=suml/i\n",
        "  suml = np.sqrt(suml)\n",
        " \n",
        "\n",
        "X0 = np.linspace(0,1,100)\n",
        "for x in X0:\n",
        "  newX.append(forward(x).detach())\n",
        "\n",
        "\n",
        "plt.scatter(X100,Y100,c='r')\n",
        "plt.plot(X0,newX)\n",
        "plt.title('polynomial regression order 9')\n",
        "plt.xlabel('x')\n",
        "plt.ylabel('y')\n",
        "plt.show()"
      ],
      "execution_count": 312,
      "outputs": [
        {
          "output_type": "display_data",
          "data": {
            "image/png": "[encoded data removed]",
            "text/plain": [
              "<Figure size 432x288 with 1 Axes>"
            ]
          },
          "metadata": {
            "needs_background": "light"
          }
        }
      ]
    },
    {
      "cell_type": "code",
      "metadata": {
        "id": "Vkvd9gCSIzUz"
      },
      "source": [
        ""
      ],
      "execution_count": 312,
      "outputs": []
    }
  ]
}